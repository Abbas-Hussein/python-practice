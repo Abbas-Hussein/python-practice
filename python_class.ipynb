{
 "cells": [
  {
   "cell_type": "code",
   "execution_count": 6,
   "id": "a515d4a7",
   "metadata": {},
   "outputs": [
    {
     "name": "stdout",
     "output_type": "stream",
     "text": [
      "Hello world\n"
     ]
    }
   ],
   "source": [
    "print(\"Hello world\")"
   ]
  },
  {
   "cell_type": "code",
   "execution_count": 7,
   "id": "d09279f5",
   "metadata": {},
   "outputs": [
    {
     "ename": "NameError",
     "evalue": "name 'name' is not defined",
     "output_type": "error",
     "traceback": [
      "\u001b[31m---------------------------------------------------------------------------\u001b[39m",
      "\u001b[31mNameError\u001b[39m                                 Traceback (most recent call last)",
      "\u001b[36mCell\u001b[39m\u001b[36m \u001b[39m\u001b[32mIn[7]\u001b[39m\u001b[32m, line 8\u001b[39m\n\u001b[32m      6\u001b[39m     random_number = randint(\u001b[32m0\u001b[39m,\u001b[32m9\u001b[39m)\n\u001b[32m      7\u001b[39m     account_number += \u001b[33mf\u001b[39m\u001b[33m'\u001b[39m\u001b[38;5;132;01m{\u001b[39;00mrandom_number\u001b[38;5;132;01m}\u001b[39;00m\u001b[33m'\u001b[39m\n\u001b[32m----> \u001b[39m\u001b[32m8\u001b[39m account_details = {\u001b[33m\"\u001b[39m\u001b[33mbalance\u001b[39m\u001b[33m\"\u001b[39m: \u001b[32m0\u001b[39m, \u001b[33m\"\u001b[39m\u001b[33mname\u001b[39m\u001b[33m\"\u001b[39m: \u001b[43mname\u001b[49m, \u001b[33m\"\u001b[39m\u001b[33mpin\u001b[39m\u001b[33m\"\u001b[39m: pin}\n\u001b[32m      9\u001b[39m accounts[account_number] = account_details\n\u001b[32m     10\u001b[39m \u001b[38;5;28;01mreturn\u001b[39;00m account_number, account_details\n",
      "\u001b[31mNameError\u001b[39m: name 'name' is not defined"
     ]
    }
   ],
   "source": [
    "accounts = {}\n",
    "\n",
    "account_number = \"\"\n",
    "from random import randint \n",
    "for i in range (10):\n",
    "    random_number = randint(0,9)\n",
    "    account_number += f'{random_number}'\n",
    "account_details = {\"balance\": 0, \"name\": name, \"pin\": pin}\n",
    "accounts[account_number] = account_details\n",
    "return account_number, account_details"
   ]
  }
 ],
 "metadata": {
  "kernelspec": {
   "display_name": "Python 3",
   "language": "python",
   "name": "python3"
  },
  "language_info": {
   "codemirror_mode": {
    "name": "ipython",
    "version": 3
   },
   "file_extension": ".py",
   "mimetype": "text/x-python",
   "name": "python",
   "nbconvert_exporter": "python",
   "pygments_lexer": "ipython3",
   "version": "3.13.5"
  }
 },
 "nbformat": 4,
 "nbformat_minor": 5
}
